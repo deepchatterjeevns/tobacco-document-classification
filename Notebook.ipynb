{
 "cells": [
  {
   "cell_type": "markdown",
   "metadata": {},
   "source": [
    "# Classification des documents du procès des groupes américains du tabac"
   ]
  },
  {
   "cell_type": "markdown",
   "metadata": {},
   "source": [
    "### Bibliothèques nécessaires"
   ]
  },
  {
   "cell_type": "code",
   "execution_count": 1,
   "metadata": {},
   "outputs": [
    {
     "name": "stderr",
     "output_type": "stream",
     "text": [
      "C:\\Users\\Ilyas\\Anaconda3\\lib\\site-packages\\h5py\\__init__.py:36: FutureWarning: Conversion of the second argument of issubdtype from `float` to `np.floating` is deprecated. In future, it will be treated as `np.float64 == np.dtype(float).type`.\n",
      "  from ._conv import register_converters as _register_converters\n",
      "Using TensorFlow backend.\n"
     ]
    }
   ],
   "source": [
    "# libraries for dataset preparation, feature engineering, model training \n",
    "import numpy as np\n",
    "import os\n",
    "from sklearn.model_selection import train_test_split\n",
    "import pandas as pd\n",
    "from sklearn.feature_extraction.text import CountVectorizer\n",
    "from sklearn.naive_bayes import MultinomialNB\n",
    "from sklearn import preprocessing, linear_model, svm\n",
    "from sklearn import tree\n",
    "from sklearn.ensemble import BaggingClassifier\n",
    "from sklearn.feature_extraction.text import TfidfTransformer, TfidfVectorizer\n",
    "from sklearn.metrics import classification_report\n",
    "from sklearn.metrics import confusion_matrix\n",
    "import ast\n",
    "import os\n",
    "from keras.layers import Dense, Embedding, Input\n",
    "from keras.layers import GRU, Dropout, MaxPooling1D, Conv1D, Flatten, BatchNormalization, GlobalMaxPool1D\n",
    "from keras.models import Model, Sequential\n",
    "\n",
    "import numpy as np\n",
    "import itertools\n",
    "from keras.utils import np_utils\n",
    "from sklearn.metrics import (classification_report, \n",
    "                             precision_recall_fscore_support, \n",
    "                             accuracy_score)\n",
    "\n",
    "from keras.callbacks import ModelCheckpoint\n",
    "from keras.callbacks import EarlyStopping, ReduceLROnPlateau\n",
    "\n",
    "from keras.preprocessing import text, sequence\n",
    "import seaborn as sns\n",
    "%matplotlib inline\n"
   ]
  },
  {
   "cell_type": "markdown",
   "metadata": {},
   "source": [
    "### Préparation des données"
   ]
  },
  {
   "cell_type": "code",
   "execution_count": 2,
   "metadata": {},
   "outputs": [],
   "source": [
    "def data_preper(PATH_data, del_saut_line):\n",
    "    \n",
    "    \"\"\" Inputs : * PATH_data --> type str, chemin du dossier contenant les 10 dossiers de donnees.\n",
    "                 * del_saut_line --> type bool, si True, on récupère nos donnees texte sans le saut de ligne '\\n'.\n",
    "        Outputs: * Data frame, Contenant deux colonnes, une correspond au textes, et l'autre au labels. \"\"\"\n",
    "    \n",
    "    classes = []\n",
    "    filenames = []\n",
    "    X = []\n",
    "    y = []\n",
    "    \n",
    "    # Parcours du dossier contenant les 10 dossiers correspondants au classes\n",
    "    for i, classe in enumerate (os.listdir(PATH_data)):\n",
    "        \n",
    "        inputFilepath = classe\n",
    "        filename_w_ext = os.path.basename(inputFilepath)\n",
    "        filename, file_extension = os.path.splitext(filename_w_ext)\n",
    "        classes.append(filename)\n",
    "        path = PATH_data + '/' + filename\n",
    "\n",
    "        # Parcours de chaque dossier pour extraire le texte de chaque fichier\n",
    "        for j, element in enumerate (os.listdir(path)):\n",
    "            inputFilepath = element\n",
    "            filename_w_ext = os.path.basename(inputFilepath)\n",
    "            filename, file_extension = os.path.splitext(filename_w_ext)\n",
    "            filenames.append(filename)\n",
    "            path_file = path + '/' + element\n",
    "            \n",
    "            file = open(path_file,'r',encoding='utf8').read()\n",
    "            if del_saut_line == True:\n",
    "                text = \"\"\n",
    "                for k, line in enumerate(file.split(\"\\n\")):\n",
    "                    content = line.split()\n",
    "                    text += (\" \".join(content[1:]))\n",
    "                X.append(text)\n",
    "                y.append(classes[i])\n",
    "                \n",
    "            if del_saut_line == False:\n",
    "                X.append(file)\n",
    "                y.append(classes[i])\n",
    "\n",
    "    y = np.asarray(y)\n",
    "    X = np.asarray(X)\n",
    "    \n",
    "    # create a dataframe using texts and lables\n",
    "    df = pd.DataFrame()\n",
    "    df['text'] = X\n",
    "    df['label'] = y\n",
    "    \n",
    "    return(df)"
   ]
  },
  {
   "cell_type": "code",
   "execution_count": 3,
   "metadata": {},
   "outputs": [
    {
     "name": "stdout",
     "output_type": "stream",
     "text": [
      "\n",
      "Nombre de donnees:  3482\n",
      "\n",
      "Exemple du dataframe avec saut de ligne:\n",
      "                                                   text          label\n",
      "220  ce\\n\\n  \\n\\nNew: Laser-Cut “Flavor Chamber”\\n\\...  Advertisement\n",
      "221  THE IMAGINATION To Sez It,\\nTHE Passion To Pur...  Advertisement\n",
      "222  NIORE\\nPACKINGS.\\n\\nIIORE\\nPLEASURE.\\n\\nee\\nNe...  Advertisement\n",
      "223  SURGEON GENERAL'S WARNING: Smoking\\nCauses Lun...  Advertisement\n",
      "224  SURGEON GENERAL'S WARNING: Cigarette\\nSmoke Co...  Advertisement\n",
      "225  Helping Youth Say No” is only one part of wide...  Advertisement\n",
      "226  Senge,\\n\\n~  SOYOUDONT |\\nSMOKE!\\n\\n \\n\\n~ .\\n...  Advertisement\n",
      "227  The tobacco industry is committed to seeing th...  Advertisement\n",
      "228  S\\n2\\n\\ns\\n\\n \\n\\n~HOLD FOR OUR INDUSTRY?\\n\\n»...  Advertisement\n",
      "229  Yon CE MOTE PSU AQ YN IS MLE\\n\\nALALILSNI ODDV...  Advertisement\n",
      "230  Ellis, Cathy L. (WSA)\\n\\n \\n\\nFrom: Hsu, Frank...          Email\n",
      "231  Pabst, Joanne\\n\\n \\n\\nFrom: Keane, Denise\\n\\nS...          Email\n",
      "232  — Original Message—-—\\n\\nFrom: Berlind, Mark\\n...          Email\n",
      "233  From: — Greenberg, David\\n\\nSent: Saturday, Ju...          Email\n",
      "234  From: Waadward, Ettis\\n\\nSent: Tuesday, June 3...          Email\n",
      "235  —~-Original Message———\\n\\nFrom: Osborne, Kevin...          Email\n",
      "236  From: Atkins, Sharon on Tue, Apr 16, 1996 3:52...          Email\n",
      "237  R: REDACTED MATERIAL\\n\\n \\n\\nMurillo, Joe\\n\\nF...          Email\n",
      "238  Walk, Roger A.\\n\\nFrom: Walk, Roger A.\\n\\nSent...          Email\n",
      "239  Galan, Nancy\\n\\n@-: Suter, Norma\\nSent: Monday...          Email\n"
     ]
    },
    {
     "data": {
      "image/png": "[encoded data removed]",
      "text/plain": [
       "<Figure size 432x288 with 1 Axes>"
      ]
     },
     "metadata": {},
     "output_type": "display_data"
    }
   ],
   "source": [
    "# preparation des donnees sans enlever '/n'\n",
    "\n",
    "PATH_data = 'C:/Users/Ilyas/Desktop/M2 SID - SD/Text Analysis/nlp-labs/tobacco-lab/data'\n",
    "df = data_preper(PATH_data, del_saut_line=False)\n",
    "\n",
    "sns.countplot(data=df,y='label')\n",
    "\n",
    "print('\\nNombre de donnees: ',df['text'].shape[0])\n",
    "print('\\nExemple du dataframe avec saut de ligne:\\n',df[220:240])"
   ]
  },
  {
   "cell_type": "code",
   "execution_count": 4,
   "metadata": {},
   "outputs": [
    {
     "name": "stdout",
     "output_type": "stream",
     "text": [
      "\n",
      "Nombre de donnees:  3482\n",
      "X_train:  (2819,)\n",
      "X_test:  (349,)\n",
      "X_val:  (314,)\n"
     ]
    }
   ],
   "source": [
    "X_app, X_test, y_app, y_test = train_test_split(df['text'], df['label'], test_size=0.1)\n",
    "X_train, X_val, y_train, y_val = train_test_split(X_app, y_app, test_size=0.1)\n",
    "\n",
    "# label encode the target variable \n",
    "encoder = preprocessing.LabelEncoder()\n",
    "y_train = encoder.fit_transform(y_train)\n",
    "y_test = encoder.fit_transform(y_test)\n",
    "y_val = encoder.fit_transform(y_val)\n",
    "y_app = encoder.fit_transform(y_app)\n",
    "\n",
    "print('\\nNombre de donnees: ',df['text'].shape[0])\n",
    "print('X_train: ',X_train.shape)\n",
    "print('X_test: ',X_test.shape)\n",
    "print('X_val: ',X_val.shape)"
   ]
  },
  {
   "cell_type": "markdown",
   "metadata": {},
   "source": [
    "### Feature Engineering"
   ]
  },
  {
   "cell_type": "markdown",
   "metadata": {},
   "source": [
    "##### Count Vectors as features : "
   ]
  },
  {
   "cell_type": "code",
   "execution_count": 5,
   "metadata": {},
   "outputs": [],
   "source": [
    "# Create document vectors\n",
    "vectorizer = CountVectorizer(max_features=3000,analyzer='word', token_pattern=r'\\w{1,}')\n",
    "vectorizer.fit(df['text'])\n",
    "\n",
    "X_train_counts = vectorizer.transform(X_train)\n",
    "X_val_counts = vectorizer.transform(X_val)\n",
    "X_test_counts = vectorizer.transform(X_test)"
   ]
  },
  {
   "cell_type": "markdown",
   "metadata": {},
   "source": [
    "##### TF-idf Vectors as features "
   ]
  },
  {
   "cell_type": "code",
   "execution_count": 6,
   "metadata": {},
   "outputs": [],
   "source": [
    "# N-gram level tf-idf:\n",
    "tfidf_vect = TfidfVectorizer(analyzer='word', token_pattern=r'\\w{1,}', ngram_range=(1,4), max_features=1000)\n",
    "tfidf_vect.fit(df['text'])\n",
    "\n",
    "X_train_tf =  tfidf_vect.transform(X_train)\n",
    "X_val_tf =  tfidf_vect.transform(X_val)\n",
    "X_test_tf = tfidf_vect.transform(X_test)"
   ]
  },
  {
   "cell_type": "markdown",
   "metadata": {},
   "source": [
    "### Model Building "
   ]
  },
  {
   "cell_type": "markdown",
   "metadata": {},
   "source": [
    "##### Naive Bayes Classifier"
   ]
  },
  {
   "cell_type": "markdown",
   "metadata": {},
   "source": [
    "- With Count Vectors representation"
   ]
  },
  {
   "cell_type": "code",
   "execution_count": 7,
   "metadata": {},
   "outputs": [
    {
     "name": "stdout",
     "output_type": "stream",
     "text": [
      " - Validation du classifieur: \n",
      "\n",
      "Score :  0.7356687898089171\n",
      "\n",
      " - Prediction des classes et test sur les donnees de test: \n",
      "\n",
      "             precision    recall  f1-score   support\n",
      "\n",
      "          0       0.70      0.70      0.70        23\n",
      "          1       0.98      0.94      0.96        63\n",
      "          2       0.74      0.90      0.81        48\n",
      "          3       0.81      0.68      0.74        65\n",
      "          4       0.66      0.78      0.71        51\n",
      "          5       0.71      0.83      0.77        18\n",
      "          6       0.38      0.33      0.36        15\n",
      "          7       0.60      0.46      0.52        26\n",
      "          8       1.00      1.00      1.00        15\n",
      "          9       0.67      0.64      0.65        25\n",
      "\n",
      "avg / total       0.76      0.76      0.76       349\n",
      "\n",
      "matrice de confusion : \n",
      " [[16  0  0  0  2  0  4  1  0  0]\n",
      " [ 0 59  0  1  2  1  0  0  0  0]\n",
      " [ 2  0 43  1  0  0  1  0  0  1]\n",
      " [ 0  1  5 44  5  4  1  4  0  1]\n",
      " [ 0  0  2  6 40  0  1  2  0  0]\n",
      " [ 2  0  0  0  0 15  1  0  0  0]\n",
      " [ 2  0  3  0  5  0  5  0  0  0]\n",
      " [ 0  0  1  2  4  1  0 12  0  6]\n",
      " [ 0  0  0  0  0  0  0  0 15  0]\n",
      " [ 1  0  4  0  3  0  0  1  0 16]]\n"
     ]
    }
   ],
   "source": [
    "# train a Naive Bayes classifier:\n",
    "clf = MultinomialNB()\n",
    "clf.fit(X_train_counts,y_train)\n",
    "score_val = clf.score(X_val_counts,y_val)\n",
    "print(' - Validation du classifieur: \\n')\n",
    "print('Score : ',score_val)\n",
    "\n",
    "# predict test classes:\n",
    "print('\\n - Prediction des classes et test sur les donnees de test: \\n')\n",
    "y_pred = clf.predict(X_test_counts)\n",
    "print(classification_report(y_test, y_pred))\n",
    "print('matrice de confusion : \\n',confusion_matrix(y_test, y_pred))\n"
   ]
  },
  {
   "cell_type": "markdown",
   "metadata": {},
   "source": [
    "- With TF-IDF Vectors representation"
   ]
  },
  {
   "cell_type": "code",
   "execution_count": 8,
   "metadata": {},
   "outputs": [
    {
     "name": "stdout",
     "output_type": "stream",
     "text": [
      "score :  0.7261146496815286\n",
      "             precision    recall  f1-score   support\n",
      "\n",
      "          0       0.84      0.70      0.76        23\n",
      "          1       0.97      0.95      0.96        63\n",
      "          2       0.65      0.96      0.77        48\n",
      "          3       0.80      0.74      0.77        65\n",
      "          4       0.64      0.80      0.71        51\n",
      "          5       0.79      0.83      0.81        18\n",
      "          6       1.00      0.07      0.12        15\n",
      "          7       0.58      0.27      0.37        26\n",
      "          8       1.00      1.00      1.00        15\n",
      "          9       0.65      0.68      0.67        25\n",
      "\n",
      "avg / total       0.78      0.76      0.74       349\n",
      "\n",
      "matrice de confusion : \n",
      " [[16  0  3  0  4  0  0  0  0  0]\n",
      " [ 0 60  0  1  1  1  0  0  0  0]\n",
      " [ 1  0 46  1  0  0  0  0  0  0]\n",
      " [ 0  1  4 48  6  0  0  3  0  3]\n",
      " [ 0  0  3  6 41  0  0  1  0  0]\n",
      " [ 2  0  1  0  0 15  0  0  0  0]\n",
      " [ 0  0  8  1  5  0  1  0  0  0]\n",
      " [ 0  1  1  3  5  3  0  7  0  6]\n",
      " [ 0  0  0  0  0  0  0  0 15  0]\n",
      " [ 0  0  5  0  2  0  0  1  0 17]]\n"
     ]
    }
   ],
   "source": [
    "# train a Naive Bayes classifier:\n",
    "clf = MultinomialNB()\n",
    "clf.fit(X_train_tf,y_train)\n",
    "score_val = clf.score(X_val_tf,y_val)\n",
    "print('score : ',score_val)\n",
    "\n",
    "# predict test classes:\n",
    "y_pred = clf.predict(X_test_tf)\n",
    "print(classification_report(y_test, y_pred))\n",
    "print('matrice de confusion : \\n',confusion_matrix(y_test, y_pred))"
   ]
  },
  {
   "cell_type": "markdown",
   "metadata": {},
   "source": [
    "##### Linear Classifier"
   ]
  },
  {
   "cell_type": "markdown",
   "metadata": {},
   "source": [
    "- With Count Vectors representation"
   ]
  },
  {
   "cell_type": "code",
   "execution_count": 9,
   "metadata": {},
   "outputs": [
    {
     "name": "stdout",
     "output_type": "stream",
     "text": [
      " - Validation du classifieur: \n",
      "\n",
      "Score :  0.7929936305732485\n",
      "\n",
      " - Prediction des classes et test sur les donnees de test: \n",
      "\n",
      "             precision    recall  f1-score   support\n",
      "\n",
      "          0       0.79      0.65      0.71        23\n",
      "          1       0.94      0.98      0.96        63\n",
      "          2       0.83      0.92      0.87        48\n",
      "          3       0.84      0.78      0.81        65\n",
      "          4       0.75      0.84      0.80        51\n",
      "          5       0.88      0.83      0.86        18\n",
      "          6       0.57      0.80      0.67        15\n",
      "          7       0.75      0.46      0.57        26\n",
      "          8       1.00      1.00      1.00        15\n",
      "          9       0.67      0.64      0.65        25\n",
      "\n",
      "avg / total       0.82      0.82      0.81       349\n",
      "\n",
      "matrice de confusion : \n",
      " [[15  1  1  0  1  0  5  0  0  0]\n",
      " [ 0 62  0  1  0  0  0  0  0  0]\n",
      " [ 1  0 44  1  0  0  2  0  0  0]\n",
      " [ 1  1  1 51  7  1  0  1  0  2]\n",
      " [ 1  0  0  6 43  0  1  0  0  0]\n",
      " [ 1  1  0  0  0 15  0  0  0  1]\n",
      " [ 0  0  2  0  1  0 12  0  0  0]\n",
      " [ 0  1  2  2  3  1  0 12  0  5]\n",
      " [ 0  0  0  0  0  0  0  0 15  0]\n",
      " [ 0  0  3  0  2  0  1  3  0 16]]\n"
     ]
    }
   ],
   "source": [
    "# train a Linear classifier:\n",
    "lc = linear_model.LogisticRegression()\n",
    "lc.fit(X_train_counts,y_train)\n",
    "score_val = lc.score(X_val_counts,y_val)\n",
    "print(' - Validation du classifieur: \\n')\n",
    "print('Score : ',score_val)\n",
    "\n",
    "# predict test classes:\n",
    "print('\\n - Prediction des classes et test sur les donnees de test: \\n')\n",
    "y_pred = lc.predict(X_test_counts)\n",
    "print(classification_report(y_test, y_pred))\n",
    "print('matrice de confusion : \\n',confusion_matrix(y_test, y_pred))"
   ]
  },
  {
   "cell_type": "markdown",
   "metadata": {},
   "source": [
    "- With TF-IDF Vectors representation"
   ]
  },
  {
   "cell_type": "code",
   "execution_count": 10,
   "metadata": {},
   "outputs": [
    {
     "name": "stdout",
     "output_type": "stream",
     "text": [
      "score :  0.7738853503184714\n",
      "             precision    recall  f1-score   support\n",
      "\n",
      "          0       0.76      0.57      0.65        23\n",
      "          1       0.95      0.95      0.95        63\n",
      "          2       0.72      0.88      0.79        48\n",
      "          3       0.87      0.74      0.80        65\n",
      "          4       0.72      0.84      0.77        51\n",
      "          5       0.76      0.89      0.82        18\n",
      "          6       0.56      0.67      0.61        15\n",
      "          7       0.64      0.35      0.45        26\n",
      "          8       1.00      1.00      1.00        15\n",
      "          9       0.61      0.68      0.64        25\n",
      "\n",
      "avg / total       0.79      0.78      0.78       349\n",
      "\n",
      "matrice de confusion : \n",
      " [[13  0  2  0  3  1  4  0  0  0]\n",
      " [ 0 60  0  1  1  1  0  0  0  0]\n",
      " [ 2  0 42  0  0  0  3  0  0  1]\n",
      " [ 1  1  4 48  5  1  0  3  0  2]\n",
      " [ 0  1  1  5 43  0  0  1  0  0]\n",
      " [ 1  0  1  0  0 16  0  0  0  0]\n",
      " [ 0  0  3  0  2  0 10  0  0  0]\n",
      " [ 0  1  1  1  4  2  0  9  0  8]\n",
      " [ 0  0  0  0  0  0  0  0 15  0]\n",
      " [ 0  0  4  0  2  0  1  1  0 17]]\n"
     ]
    }
   ],
   "source": [
    "# train a Linear classifier:\n",
    "lc = linear_model.LogisticRegression()\n",
    "lc.fit(X_train_tf,y_train)\n",
    "score_val = lc.score(X_val_tf,y_val)\n",
    "print('score : ',score_val)\n",
    "\n",
    "# predict test classes:\n",
    "y_pred = lc.predict(X_test_tf)\n",
    "print(classification_report(y_test, y_pred))\n",
    "print('matrice de confusion : \\n',confusion_matrix(y_test, y_pred))"
   ]
  },
  {
   "cell_type": "markdown",
   "metadata": {},
   "source": [
    "##### Bagging Models"
   ]
  },
  {
   "cell_type": "code",
   "execution_count": 11,
   "metadata": {},
   "outputs": [
    {
     "name": "stdout",
     "output_type": "stream",
     "text": [
      "score :  0.7420382165605095\n",
      "             precision    recall  f1-score   support\n",
      "\n",
      "          0       0.70      0.70      0.70        23\n",
      "          1       0.91      0.97      0.94        63\n",
      "          2       0.65      0.83      0.73        48\n",
      "          3       0.80      0.78      0.79        65\n",
      "          4       0.81      0.76      0.79        51\n",
      "          5       0.82      0.78      0.80        18\n",
      "          6       0.57      0.53      0.55        15\n",
      "          7       0.44      0.27      0.33        26\n",
      "          8       1.00      1.00      1.00        15\n",
      "          9       0.65      0.60      0.63        25\n",
      "\n",
      "avg / total       0.76      0.76      0.76       349\n",
      "\n",
      "matrice de confusion : \n",
      " [[16  0  2  1  0  0  3  1  0  0]\n",
      " [ 0 61  0  1  0  0  0  1  0  0]\n",
      " [ 1  2 40  0  1  0  1  2  0  1]\n",
      " [ 0  1  4 51  5  0  1  2  0  1]\n",
      " [ 1  2  2  6 39  0  0  1  0  0]\n",
      " [ 2  0  2  0  0 14  0  0  0  0]\n",
      " [ 2  1  3  1  0  0  8  0  0  0]\n",
      " [ 0  0  5  3  2  3  0  7  0  6]\n",
      " [ 0  0  0  0  0  0  0  0 15  0]\n",
      " [ 1  0  4  1  1  0  1  2  0 15]]\n"
     ]
    }
   ],
   "source": [
    "# train a bagging model:\n",
    "clf = tree.DecisionTreeClassifier(max_depth=100)      # 100 arbres\n",
    "bagging = BaggingClassifier(clf,max_samples=0.5, max_features=0.5)\n",
    "bagging.fit(X_train_tf,y_train)\n",
    "score_val = bagging.score(X_val_tf,y_val)\n",
    "print('score : ',score_val)\n",
    "\n",
    "# predict test classes:\n",
    "y_pred = bagging.predict(X_test_tf)\n",
    "print(classification_report(y_test, y_pred))\n",
    "print('matrice de confusion : \\n',confusion_matrix(y_test, y_pred))"
   ]
  },
  {
   "cell_type": "markdown",
   "metadata": {},
   "source": [
    "##### Reseau de neuronnes convoltionnel (CNN)"
   ]
  },
  {
   "cell_type": "code",
   "execution_count": 12,
   "metadata": {},
   "outputs": [],
   "source": [
    "def get_train_test(train_raw_text, test_raw_text):\n",
    "    \n",
    "    tokenizer = text.Tokenizer(num_words=MAX_FEATURES, )\n",
    "\n",
    "    tokenizer.fit_on_texts(list(train_raw_text))\n",
    "    train_tokenized = tokenizer.texts_to_sequences(train_raw_text)\n",
    "    test_tokenized = tokenizer.texts_to_sequences(test_raw_text)\n",
    "    return sequence.pad_sequences(train_tokenized, maxlen=MAX_TEXT_LENGTH), \\\n",
    "           sequence.pad_sequences(test_tokenized, maxlen=MAX_TEXT_LENGTH)\n",
    "\n",
    "def get_model():\n",
    "\n",
    "    inp = Input(shape=(MAX_TEXT_LENGTH,))\n",
    "    model = Embedding(MAX_TEXT_LENGTH, EMBED_SIZE)(inp)\n",
    "    \n",
    "    model = Conv1D(filters=64, kernel_size=7, padding='same', activation='relu')(model)\n",
    "    model = MaxPooling1D(pool_size=3)(model)\n",
    "    model = BatchNormalization(axis=1)(model)\n",
    "    model = Dropout(0.25)(model)\n",
    "    \n",
    "    model = Conv1D(filters=128, kernel_size=5, padding='same', activation='relu')(model)\n",
    "    model = MaxPooling1D(pool_size=5)(model)\n",
    "    model = BatchNormalization(axis=1)(model)\n",
    "    model = Dropout(0.3)(model)\n",
    "    \n",
    "    model = Flatten()(model)\n",
    "    model = Dense(1024, activation=\"relu\")(model)\n",
    "    model = Dense(10, activation=\"softmax\")(model)\n",
    "    \n",
    "    model = Model(inputs=inp, outputs=model)\n",
    "    \n",
    "    \n",
    "    model.compile(loss='categorical_crossentropy', optimizer='rmsprop', metrics=['accuracy'])\n",
    "    model.summary()\n",
    "    \n",
    "    return model\n"
   ]
  },
  {
   "cell_type": "code",
   "execution_count": 13,
   "metadata": {
    "scrolled": false
   },
   "outputs": [
    {
     "name": "stdout",
     "output_type": "stream",
     "text": [
      "[0 1 2 3 4 5 6 7 8 9]\n",
      "3133 349\n",
      "_________________________________________________________________\n",
      "Layer (type)                 Output Shape              Param #   \n",
      "=================================================================\n",
      "input_1 (InputLayer)         (None, 500)               0         \n",
      "_________________________________________________________________\n",
      "embedding_1 (Embedding)      (None, 500, 32)           16000     \n",
      "_________________________________________________________________\n",
      "conv1d_1 (Conv1D)            (None, 500, 64)           14400     \n",
      "_________________________________________________________________\n",
      "max_pooling1d_1 (MaxPooling1 (None, 166, 64)           0         \n",
      "_________________________________________________________________\n",
      "batch_normalization_1 (Batch (None, 166, 64)           664       \n",
      "_________________________________________________________________\n",
      "dropout_1 (Dropout)          (None, 166, 64)           0         \n",
      "_________________________________________________________________\n",
      "conv1d_2 (Conv1D)            (None, 166, 128)          41088     \n",
      "_________________________________________________________________\n",
      "max_pooling1d_2 (MaxPooling1 (None, 33, 128)           0         \n",
      "_________________________________________________________________\n",
      "batch_normalization_2 (Batch (None, 33, 128)           132       \n",
      "_________________________________________________________________\n",
      "dropout_2 (Dropout)          (None, 33, 128)           0         \n",
      "_________________________________________________________________\n",
      "flatten_1 (Flatten)          (None, 4224)              0         \n",
      "_________________________________________________________________\n",
      "dense_1 (Dense)              (None, 1024)              4326400   \n",
      "_________________________________________________________________\n",
      "dense_2 (Dense)              (None, 10)                10250     \n",
      "=================================================================\n",
      "Total params: 4,408,934\n",
      "Trainable params: 4,408,536\n",
      "Non-trainable params: 398\n",
      "_________________________________________________________________\n",
      "Train on 2819 samples, validate on 314 samples\n",
      "Epoch 1/50\n",
      "2819/2819 [==============================] - 19s 7ms/step - loss: 12.7370 - acc: 0.1674 - val_loss: 11.2424 - val_acc: 0.2898\n",
      "Epoch 2/50\n",
      "2819/2819 [==============================] - 21s 7ms/step - loss: 7.9871 - acc: 0.2685 - val_loss: 3.8670 - val_acc: 0.2834\n",
      "Epoch 3/50\n",
      "2819/2819 [==============================] - 21s 8ms/step - loss: 2.6224 - acc: 0.2909 - val_loss: 2.7587 - val_acc: 0.2675\n",
      "Epoch 4/50\n",
      "2819/2819 [==============================] - 19s 7ms/step - loss: 2.0223 - acc: 0.3590 - val_loss: 2.3073 - val_acc: 0.3121\n",
      "Epoch 5/50\n",
      "2819/2819 [==============================] - 20s 7ms/step - loss: 1.5026 - acc: 0.4732 - val_loss: 1.5042 - val_acc: 0.4904\n",
      "Epoch 6/50\n",
      "2819/2819 [==============================] - 20s 7ms/step - loss: 1.2348 - acc: 0.5502 - val_loss: 1.5838 - val_acc: 0.4076\n",
      "Epoch 7/50\n",
      "2819/2819 [==============================] - 21s 7ms/step - loss: 1.0549 - acc: 0.6233 - val_loss: 1.3209 - val_acc: 0.4936\n",
      "Epoch 8/50\n",
      "2819/2819 [==============================] - 19s 7ms/step - loss: 0.8843 - acc: 0.6790 - val_loss: 1.0863 - val_acc: 0.6083\n",
      "Epoch 9/50\n",
      "2819/2819 [==============================] - 19s 7ms/step - loss: 0.7374 - acc: 0.7272 - val_loss: 1.7652 - val_acc: 0.5669\n",
      "Epoch 10/50\n",
      "2819/2819 [==============================] - 19s 7ms/step - loss: 0.6401 - acc: 0.7716 - val_loss: 1.0171 - val_acc: 0.6178\n",
      "Epoch 11/50\n",
      "2819/2819 [==============================] - 19s 7ms/step - loss: 0.5248 - acc: 0.8134 - val_loss: 1.5766 - val_acc: 0.6210\n",
      "Epoch 12/50\n",
      "2819/2819 [==============================] - 19s 7ms/step - loss: 0.4359 - acc: 0.8460 - val_loss: 1.1934 - val_acc: 0.7006\n",
      "Epoch 13/50\n",
      "2819/2819 [==============================] - 20s 7ms/step - loss: 0.3991 - acc: 0.8609 - val_loss: 1.4547 - val_acc: 0.6592\n",
      "Epoch 14/50\n",
      "2819/2819 [==============================] - 18s 6ms/step - loss: 0.3333 - acc: 0.8879 - val_loss: 1.5479 - val_acc: 0.5796\n",
      "Epoch 15/50\n",
      "2819/2819 [==============================] - 18s 6ms/step - loss: 0.2645 - acc: 0.8968 - val_loss: 1.6994 - val_acc: 0.6688\n",
      "Epoch 16/50\n",
      "2819/2819 [==============================] - 25s 9ms/step - loss: 0.2604 - acc: 0.9085 - val_loss: 1.2097 - val_acc: 0.6752\n",
      "Epoch 17/50\n",
      "2819/2819 [==============================] - 27s 10ms/step - loss: 0.2066 - acc: 0.9227 - val_loss: 1.2070 - val_acc: 0.7006\n",
      "Epoch 18/50\n",
      "2819/2819 [==============================] - 28s 10ms/step - loss: 0.2128 - acc: 0.9198 - val_loss: 1.1642 - val_acc: 0.7261\n",
      "Epoch 19/50\n",
      "2819/2819 [==============================] - 28s 10ms/step - loss: 0.1623 - acc: 0.9457 - val_loss: 1.7267 - val_acc: 0.6815\n",
      "Epoch 20/50\n",
      "2819/2819 [==============================] - 27s 10ms/step - loss: 0.2130 - acc: 0.9379 - val_loss: 1.8580 - val_acc: 0.6529\n",
      "Epoch 21/50\n",
      "2819/2819 [==============================] - 26s 9ms/step - loss: 0.1722 - acc: 0.9475 - val_loss: 1.0863 - val_acc: 0.7580\n",
      "Epoch 22/50\n",
      "2819/2819 [==============================] - 27s 10ms/step - loss: 0.1471 - acc: 0.9549 - val_loss: 1.2987 - val_acc: 0.7293\n",
      "Epoch 23/50\n",
      "2819/2819 [==============================] - 27s 9ms/step - loss: 0.1466 - acc: 0.9546 - val_loss: 2.7589 - val_acc: 0.6529\n",
      "Epoch 24/50\n",
      "2819/2819 [==============================] - 26s 9ms/step - loss: 0.1202 - acc: 0.9599 - val_loss: 1.3122 - val_acc: 0.7261\n",
      "Epoch 25/50\n",
      "2819/2819 [==============================] - 27s 10ms/step - loss: 0.1150 - acc: 0.9635 - val_loss: 2.1988 - val_acc: 0.7070\n",
      "Epoch 26/50\n",
      "2819/2819 [==============================] - 27s 10ms/step - loss: 0.1049 - acc: 0.9649 - val_loss: 1.8344 - val_acc: 0.7166\n",
      "Epoch 27/50\n",
      "2819/2819 [==============================] - 27s 10ms/step - loss: 0.1161 - acc: 0.9691 - val_loss: 2.1927 - val_acc: 0.6847\n",
      "Epoch 28/50\n",
      "2819/2819 [==============================] - 27s 10ms/step - loss: 0.1143 - acc: 0.9656 - val_loss: 1.5414 - val_acc: 0.7325\n",
      "Epoch 29/50\n",
      "2819/2819 [==============================] - 26s 9ms/step - loss: 0.1001 - acc: 0.9674 - val_loss: 1.9078 - val_acc: 0.7166\n",
      "Epoch 30/50\n",
      "2819/2819 [==============================] - 26s 9ms/step - loss: 0.1111 - acc: 0.9702 - val_loss: 1.9485 - val_acc: 0.7166\n",
      "Epoch 31/50\n",
      "2819/2819 [==============================] - 26s 9ms/step - loss: 0.0905 - acc: 0.9713 - val_loss: 1.4562 - val_acc: 0.7357\n",
      "Epoch 32/50\n",
      "2819/2819 [==============================] - 26s 9ms/step - loss: 0.0862 - acc: 0.9745 - val_loss: 1.3499 - val_acc: 0.7548\n",
      "Epoch 33/50\n",
      "2819/2819 [==============================] - 27s 9ms/step - loss: 0.0585 - acc: 0.9777 - val_loss: 1.9393 - val_acc: 0.7293\n",
      "Epoch 34/50\n",
      "2819/2819 [==============================] - 26s 9ms/step - loss: 0.0752 - acc: 0.9752 - val_loss: 1.4952 - val_acc: 0.7580\n",
      "Epoch 35/50\n",
      "2819/2819 [==============================] - 26s 9ms/step - loss: 0.0863 - acc: 0.9748 - val_loss: 1.5879 - val_acc: 0.7389\n",
      "Epoch 36/50\n",
      "2819/2819 [==============================] - 26s 9ms/step - loss: 0.1242 - acc: 0.9698 - val_loss: 1.7490 - val_acc: 0.7516\n",
      "Epoch 37/50\n",
      "2819/2819 [==============================] - 28s 10ms/step - loss: 0.0671 - acc: 0.9794 - val_loss: 1.4796 - val_acc: 0.7580\n",
      "Epoch 38/50\n",
      "2819/2819 [==============================] - 25s 9ms/step - loss: 0.1004 - acc: 0.9706 - val_loss: 2.2094 - val_acc: 0.7166\n",
      "Epoch 39/50\n",
      "2819/2819 [==============================] - 26s 9ms/step - loss: 0.0977 - acc: 0.9727 - val_loss: 1.8178 - val_acc: 0.7325\n",
      "Epoch 40/50\n",
      "2819/2819 [==============================] - 26s 9ms/step - loss: 0.0615 - acc: 0.9808 - val_loss: 1.7913 - val_acc: 0.7357\n",
      "Epoch 41/50\n",
      "2819/2819 [==============================] - 27s 10ms/step - loss: 0.0957 - acc: 0.9723 - val_loss: 1.8274 - val_acc: 0.7166\n",
      "Epoch 42/50\n",
      "2819/2819 [==============================] - 26s 9ms/step - loss: 0.0833 - acc: 0.9787 - val_loss: 1.5715 - val_acc: 0.7197\n",
      "Epoch 43/50\n",
      "2819/2819 [==============================] - 27s 9ms/step - loss: 0.0673 - acc: 0.9794 - val_loss: 1.9432 - val_acc: 0.7229\n",
      "Epoch 44/50\n",
      "2819/2819 [==============================] - 26s 9ms/step - loss: 0.0765 - acc: 0.9787 - val_loss: 1.8541 - val_acc: 0.7293\n",
      "Epoch 45/50\n",
      "2819/2819 [==============================] - 26s 9ms/step - loss: 0.0513 - acc: 0.9826 - val_loss: 1.9287 - val_acc: 0.7166\n",
      "Epoch 46/50\n",
      "2819/2819 [==============================] - 25s 9ms/step - loss: 0.0708 - acc: 0.9777 - val_loss: 1.8456 - val_acc: 0.7420\n",
      "Epoch 47/50\n",
      "2819/2819 [==============================] - 26s 9ms/step - loss: 0.0530 - acc: 0.9801 - val_loss: 1.8548 - val_acc: 0.7516\n",
      "Epoch 48/50\n",
      "2819/2819 [==============================] - 27s 10ms/step - loss: 0.0567 - acc: 0.9787 - val_loss: 1.9256 - val_acc: 0.7134\n",
      "Epoch 49/50\n",
      "2819/2819 [==============================] - 26s 9ms/step - loss: 0.0944 - acc: 0.9777 - val_loss: 2.1906 - val_acc: 0.6911\n",
      "Epoch 50/50\n",
      "2819/2819 [==============================] - 28s 10ms/step - loss: 0.0434 - acc: 0.9833 - val_loss: 1.8796 - val_acc: 0.7484\n"
     ]
    },
    {
     "data": {
      "text/plain": [
       "<keras.callbacks.History at 0x1f118c3b828>"
      ]
     },
     "execution_count": 13,
     "metadata": {},
     "output_type": "execute_result"
    }
   ],
   "source": [
    "# Model parameters\n",
    "\n",
    "MAX_FEATURES = 500\n",
    "MAX_TEXT_LENGTH = 500\n",
    "EMBED_SIZE  = 32\n",
    "BATCH_SIZE = 64\n",
    "EPOCHS = 50\n",
    "VALIDATION_SPLIT = 0.1\n",
    "\n",
    "# Get the list of different classes\n",
    "CLASSES_LIST = np.unique(y_app)\n",
    "n_out = len(CLASSES_LIST)\n",
    "print(CLASSES_LIST)\n",
    "\n",
    "# Convert class string to index\n",
    "train_y_cat = np_utils.to_categorical(y_app, n_out)\n",
    "test_y_cat = np_utils.to_categorical(y_test, n_out)\n",
    "\n",
    "# get the textual data in the correct format for NN\n",
    "x_vec_train, x_vec_test = get_train_test(X_app, X_test)\n",
    "print(len(x_vec_train), len(x_vec_test))\n",
    "\n",
    "# define the NN topology\n",
    "model = get_model()\n",
    "\n",
    "# Create callbacks\n",
    "filepath = 'model_cnn' + '.hdf5'\n",
    "multi_checkpointer = ModelCheckpoint(filepath=filepath, verbose=0)\n",
    "multi_lr_reduction = ReduceLROnPlateau(monitor='val_loss', patience=5, verbose=0, factor=0.2)\n",
    "\n",
    "# Train \n",
    "model.fit(x_vec_train, train_y_cat,\n",
    "              batch_size=BATCH_SIZE,\n",
    "              epochs=EPOCHS, verbose=1, validation_split=VALIDATION_SPLIT,callbacks=[multi_checkpointer,multi_lr_reduction])\n"
   ]
  },
  {
   "cell_type": "code",
   "execution_count": 15,
   "metadata": {},
   "outputs": [
    {
     "name": "stdout",
     "output_type": "stream",
     "text": [
      "Test Accuracy: 0.7621776504297995\n",
      "p r f1 76.2 76.22 76.218\n",
      "             precision    recall  f1-score   support\n",
      "\n",
      "          0       0.69      0.48      0.56        23\n",
      "          1       0.98      0.94      0.96        63\n",
      "          2       0.73      0.85      0.79        48\n",
      "          3       0.84      0.66      0.74        65\n",
      "          4       0.71      0.90      0.79        51\n",
      "          5       0.79      0.83      0.81        18\n",
      "          6       0.55      0.73      0.63        15\n",
      "          7       0.42      0.42      0.42        26\n",
      "          8       1.00      0.93      0.97        15\n",
      "          9       0.68      0.60      0.64        25\n",
      "\n",
      "avg / total       0.77      0.76      0.76       349\n",
      "\n"
     ]
    }
   ],
   "source": [
    "# Matrice de probabilitées d'appartenance à chaque classe\n",
    "y_predicted = model.predict(x_vec_test)\n",
    "\n",
    "# Attribution de la classe qui a la plus probable\n",
    "y_pred = np.zeros(len(y_test))\n",
    "for i in range(len(y_predicted)):\n",
    "    y_pred[i] = np.argmax(y_predicted[i])\n",
    "\n",
    "print(\"Test Accuracy:\", accuracy_score(y_test, y_pred))\n",
    "\n",
    "p, r, f1, s = precision_recall_fscore_support(y_test, y_pred, \n",
    "                                              average='micro',\n",
    "                                              labels=[x for x in \n",
    "                                                      np.unique(y_train) \n",
    "                                                      if x not in ['CSDECMOTV']])\n",
    "\n",
    "print('p r f1 %.1f %.2f %.3f' % (np.average(p, weights=s)*100.0, \n",
    "                                 np.average(r, weights=s)*100.0, \n",
    "                                 np.average(f1, weights=s)*100.0))\n",
    "\n",
    "\n",
    "print(classification_report(y_test, y_pred, labels=[x for x in \n",
    "                                                       np.unique(y_train) \n",
    "                                                       if x not in ['CSDECMOTV']]))"
   ]
  },
  {
   "cell_type": "code",
   "execution_count": null,
   "metadata": {},
   "outputs": [],
   "source": []
  }
 ],
 "metadata": {
  "kernelspec": {
   "display_name": "Python 3",
   "language": "python",
   "name": "python3"
  },
  "language_info": {
   "codemirror_mode": {
    "name": "ipython",
    "version": 3
   },
   "file_extension": ".py",
   "mimetype": "text/x-python",
   "name": "python",
   "nbconvert_exporter": "python",
   "pygments_lexer": "ipython3",
   "version": "3.6.5"
  }
 },
 "nbformat": 4,
 "nbformat_minor": 2
}
